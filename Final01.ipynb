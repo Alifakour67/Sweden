{
 "cells": [
  {
   "cell_type": "markdown",
   "id": "377e3ece-357c-4a20-9922-8a3015bb9e22",
   "metadata": {},
   "source": [
    "** Unsupervised Classification of Land Covers in Sweden **\n",
    "\n",
    "In this project, an unsupervised classification is done to separate various land covers. The study area is Sweden which is a diversity of land covers ranging from forests to agriculture.\n",
    "Firstly, google earth engine module is installed, imported and authenticated the user.\n"
   ]
  },
  {
   "cell_type": "code",
   "execution_count": 1,
   "id": "4b962b4e-5f4f-4c34-a288-8d23d04c4959",
   "metadata": {
    "tags": []
   },
   "outputs": [],
   "source": [
    "#pip install earthengine-api --upgrade"
   ]
  },
  {
   "cell_type": "code",
   "execution_count": 2,
   "id": "d7f88b52-f3f9-4a1d-8694-e72139589420",
   "metadata": {},
   "outputs": [],
   "source": [
    "import ee\n",
    "import geemap\n"
   ]
  },
  {
   "cell_type": "code",
   "execution_count": 3,
   "id": "60d0ef9d-0d30-4b04-9379-1ecc09e4273f",
   "metadata": {},
   "outputs": [],
   "source": [
    "#ee.Authenticate()"
   ]
  },
  {
   "cell_type": "code",
   "execution_count": 4,
   "id": "37cc05dc-f089-4083-8aa0-15fa461bd459",
   "metadata": {},
   "outputs": [
    {
     "name": "stdout",
     "output_type": "stream",
     "text": [
      "Google Earth Engine has initialized successfully!\n"
     ]
    }
   ],
   "source": [
    "try:\n",
    "  ee.Initialize()\n",
    "  print('Google Earth Engine has initialized successfully!')\n",
    "except ee.EEException as e:\n",
    "  print('Google Earth Engine has failed to initialize!')\n",
    "except:\n",
    "    print(\"Unexpected error:\", sys.exc_info()[0])\n",
    "    raise"
   ]
  },
  {
   "cell_type": "markdown",
   "id": "f3daeab6-92b0-4380-84e5-fc595bf6e999",
   "metadata": {},
   "source": [
    "The image collection of Harmonized Sentinel-2 MSI with MultiSpectral Instrument in Level-2A of atmospheric correction is used. The date of captured images are in the summer of 2023."
   ]
  },
  {
   "cell_type": "code",
   "execution_count": 5,
   "id": "15256728-330d-4b22-8e20-cb92a1ddcba1",
   "metadata": {},
   "outputs": [
    {
     "name": "stdout",
     "output_type": "stream",
     "text": [
      "ee.ImageCollection({\n",
      "  \"functionInvocationValue\": {\n",
      "    \"functionName\": \"ImageCollection.load\",\n",
      "    \"arguments\": {\n",
      "      \"id\": {\n",
      "        \"constantValue\": \"COPERNICUS/S2_SR_HARMONIZED\"\n",
      "      }\n",
      "    }\n",
      "  }\n",
      "})\n"
     ]
    }
   ],
   "source": [
    "# Load an image.\n",
    "image = ee.ImageCollection('COPERNICUS/S2_SR_HARMONIZED')\n",
    "\n",
    "# overview the image \n",
    "print(image) \n"
   ]
  },
  {
   "cell_type": "code",
   "execution_count": 6,
   "id": "4fb5ac13-932d-4417-b3d7-ae6776e5bad0",
   "metadata": {},
   "outputs": [],
   "source": [
    "Map = geemap.Map()"
   ]
  },
  {
   "cell_type": "markdown",
   "id": "a31ba059-f577-487b-a3b4-9d8b421416d6",
   "metadata": {},
   "source": [
    "Sentinel-2 satellite provides us with the 12 bands. To raise the separability, the false color composite is a common solution which uses bands of green, red and near infrared instead of RGB, respectively."
   ]
  },
  {
   "cell_type": "code",
   "execution_count": 7,
   "id": "2f5fdc3e-5a50-4e4b-b6cf-ddd62d4146c5",
   "metadata": {},
   "outputs": [
    {
     "data": {
      "application/vnd.jupyter.widget-view+json": {
       "model_id": "9a994f8b3499470da2e3e526c8888961",
       "version_major": 2,
       "version_minor": 0
      },
      "text/plain": [
       "Map(center=[59.3, 18], controls=(WidgetControl(options=['position', 'transparent_bg'], widget=HBox(children=(T…"
      ]
     },
     "metadata": {},
     "output_type": "display_data"
    }
   ],
   "source": [
    "vizParams = {\"bands\": ['B3', 'B4', 'B8'],   \"min\": 0,   \"max\": 0.3}; \n",
    "\n",
    "Map.setCenter(18, 59.3, 8); \n",
    "\n",
    "Map.addLayer(image, vizParams, 'false color composite');\n",
    "Map"
   ]
  },
  {
   "cell_type": "code",
   "execution_count": 8,
   "id": "c66772f7-fae9-4936-9235-def4df7bf9f2",
   "metadata": {},
   "outputs": [],
   "source": [
    "# NAIP: National Agriculture Imagery Program\n",
    "# Load four 2012 NAIP quarter quads, different locations.\n",
    "naip2012 = ee.ImageCollection('USDA/NAIP/DOQQ')\\\n",
    "  .filterBounds(ee.Geometry.Rectangle(11.0273686052, 55.3617373725, 23.9033785336, 69.1062472602))\\\n",
    "  .filterDate('2023-06-21', '2023-09-21')\n",
    "\n"
   ]
  },
  {
   "cell_type": "code",
   "execution_count": 9,
   "id": "6d1a9b4d-8557-4946-b72b-a1ffd3cbb664",
   "metadata": {},
   "outputs": [],
   "source": [
    "# Spatially mosaic the images in the collection and display.\n",
    "mosaic = naip2012.mosaic()\n",
    "\n"
   ]
  },
  {
   "cell_type": "code",
   "execution_count": 10,
   "id": "7063db40-57b4-447f-a61c-e1283f2c3b2b",
   "metadata": {},
   "outputs": [
    {
     "data": {
      "application/vnd.jupyter.widget-view+json": {
       "model_id": "1a8db164a52b4569a7fe16911e7b657a",
       "version_major": 2,
       "version_minor": 0
      },
      "text/plain": [
       "Map(center=[59.3, 18], controls=(WidgetControl(options=['position', 'transparent_bg'], widget=HBox(children=(T…"
      ]
     },
     "metadata": {},
     "output_type": "display_data"
    }
   ],
   "source": [
    "Map = geemap.Map()\n",
    "Map.setCenter(18, 59.3, 8)\n",
    "Map.addLayer(mosaic, {}, 'spatial mosaic')\n",
    "Map"
   ]
  },
  {
   "cell_type": "code",
   "execution_count": 11,
   "id": "ad990a50-ff34-40c0-8cfd-317017c6b8ed",
   "metadata": {},
   "outputs": [],
   "source": [
    "# Stockholm \n",
    "center = ee.Geometry.Point([18, 59.3]).getInfo()['coordinates']"
   ]
  },
  {
   "cell_type": "code",
   "execution_count": 12,
   "id": "3caee2bb-7d5d-4b03-8685-c50b3d1b31ed",
   "metadata": {},
   "outputs": [
    {
     "data": {
      "application/vnd.jupyter.widget-view+json": {
       "model_id": "0cc5bc584e8b4c13b4bf3272d8b9bcc6",
       "version_major": 2,
       "version_minor": 0
      },
      "text/plain": [
       "Map(center=[59.3, 18], controls=(WidgetControl(options=['position', 'transparent_bg'], widget=HBox(children=(T…"
      ]
     },
     "metadata": {},
     "output_type": "display_data"
    }
   ],
   "source": [
    "Map = geemap.Map()\n",
    "\n",
    "# Center the map and display the image.\n",
    "Map.setCenter(center[0], center[1], 10)\n",
    "Map"
   ]
  },
  {
   "cell_type": "code",
   "execution_count": 13,
   "id": "a8cd3e08-63e7-450e-b83d-a260a1643519",
   "metadata": {},
   "outputs": [],
   "source": [
    "#Gather images of Stockholm  \n",
    "\n",
    "myCollection = ee.ImageCollection('COPERNICUS/S2_SR_HARMONIZED') \\\n",
    "    .filterBounds(ee.Geometry.Point(center)) \\\n",
    "    .filterDate('2023-06-21', '2023-09-21') \\\n",
    "    .filterMetadata('CLOUDY_PIXEL_PERCENTAGE', 'less_than', 10) \\\n",
    "    .sort('CLOUDY_PIXEL_PERCENTAGE', False)"
   ]
  },
  {
   "cell_type": "code",
   "execution_count": 14,
   "id": "6d469f35-8ae4-4b2d-9516-98f6d03f17b0",
   "metadata": {},
   "outputs": [
    {
     "name": "stdout",
     "output_type": "stream",
     "text": [
      "Number of images in the collection:  8\n"
     ]
    }
   ],
   "source": [
    "listOfImages = myCollection.aggregate_array('system:index').getInfo()\n",
    "print('Number of images in the collection: ', len(listOfImages))"
   ]
  },
  {
   "cell_type": "code",
   "execution_count": 15,
   "id": "f6f0af1a-baf4-4c86-a5c4-c3406985eef2",
   "metadata": {},
   "outputs": [
    {
     "data": {
      "text/plain": [
       "['20230727T100559_20230727T100559_T34VCL',\n",
       " '20230622T100601_20230622T100756_T33VXF',\n",
       " '20230710T101609_20230710T102211_T34VCL',\n",
       " '20230625T101601_20230625T101601_T33VXF',\n",
       " '20230625T101601_20230625T101601_T34VCL',\n",
       " '20230710T101609_20230710T102211_T33VXF',\n",
       " '20230905T100559_20230905T101047_T33VXF',\n",
       " '20230905T100559_20230905T101047_T34VCL']"
      ]
     },
     "execution_count": 15,
     "metadata": {},
     "output_type": "execute_result"
    }
   ],
   "source": [
    "listOfImages"
   ]
  },
  {
   "cell_type": "code",
   "execution_count": 16,
   "id": "baa2cbfb-25eb-49bb-98e4-f9c73f6606b1",
   "metadata": {},
   "outputs": [
    {
     "data": {
      "text/plain": [
       "{'type': 'Image',\n",
       " 'bands': [{'id': 'B1',\n",
       "   'data_type': {'type': 'PixelType',\n",
       "    'precision': 'int',\n",
       "    'min': 0,\n",
       "    'max': 65535},\n",
       "   'dimensions': [1830, 1830],\n",
       "   'crs': 'EPSG:32634',\n",
       "   'crs_transform': [60, 0, 300000, 0, -60, 6600000]},\n",
       "  {'id': 'B2',\n",
       "   'data_type': {'type': 'PixelType',\n",
       "    'precision': 'int',\n",
       "    'min': 0,\n",
       "    'max': 65535},\n",
       "   'dimensions': [10980, 10980],\n",
       "   'crs': 'EPSG:32634',\n",
       "   'crs_transform': [10, 0, 300000, 0, -10, 6600000]},\n",
       "  {'id': 'B3',\n",
       "   'data_type': {'type': 'PixelType',\n",
       "    'precision': 'int',\n",
       "    'min': 0,\n",
       "    'max': 65535},\n",
       "   'dimensions': [10980, 10980],\n",
       "   'crs': 'EPSG:32634',\n",
       "   'crs_transform': [10, 0, 300000, 0, -10, 6600000]},\n",
       "  {'id': 'B4',\n",
       "   'data_type': {'type': 'PixelType',\n",
       "    'precision': 'int',\n",
       "    'min': 0,\n",
       "    'max': 65535},\n",
       "   'dimensions': [10980, 10980],\n",
       "   'crs': 'EPSG:32634',\n",
       "   'crs_transform': [10, 0, 300000, 0, -10, 6600000]},\n",
       "  {'id': 'B5',\n",
       "   'data_type': {'type': 'PixelType',\n",
       "    'precision': 'int',\n",
       "    'min': 0,\n",
       "    'max': 65535},\n",
       "   'dimensions': [5490, 5490],\n",
       "   'crs': 'EPSG:32634',\n",
       "   'crs_transform': [20, 0, 300000, 0, -20, 6600000]},\n",
       "  {'id': 'B6',\n",
       "   'data_type': {'type': 'PixelType',\n",
       "    'precision': 'int',\n",
       "    'min': 0,\n",
       "    'max': 65535},\n",
       "   'dimensions': [5490, 5490],\n",
       "   'crs': 'EPSG:32634',\n",
       "   'crs_transform': [20, 0, 300000, 0, -20, 6600000]},\n",
       "  {'id': 'B7',\n",
       "   'data_type': {'type': 'PixelType',\n",
       "    'precision': 'int',\n",
       "    'min': 0,\n",
       "    'max': 65535},\n",
       "   'dimensions': [5490, 5490],\n",
       "   'crs': 'EPSG:32634',\n",
       "   'crs_transform': [20, 0, 300000, 0, -20, 6600000]},\n",
       "  {'id': 'B8',\n",
       "   'data_type': {'type': 'PixelType',\n",
       "    'precision': 'int',\n",
       "    'min': 0,\n",
       "    'max': 65535},\n",
       "   'dimensions': [10980, 10980],\n",
       "   'crs': 'EPSG:32634',\n",
       "   'crs_transform': [10, 0, 300000, 0, -10, 6600000]},\n",
       "  {'id': 'B8A',\n",
       "   'data_type': {'type': 'PixelType',\n",
       "    'precision': 'int',\n",
       "    'min': 0,\n",
       "    'max': 65535},\n",
       "   'dimensions': [5490, 5490],\n",
       "   'crs': 'EPSG:32634',\n",
       "   'crs_transform': [20, 0, 300000, 0, -20, 6600000]},\n",
       "  {'id': 'B9',\n",
       "   'data_type': {'type': 'PixelType',\n",
       "    'precision': 'int',\n",
       "    'min': 0,\n",
       "    'max': 65535},\n",
       "   'dimensions': [1830, 1830],\n",
       "   'crs': 'EPSG:32634',\n",
       "   'crs_transform': [60, 0, 300000, 0, -60, 6600000]},\n",
       "  {'id': 'B11',\n",
       "   'data_type': {'type': 'PixelType',\n",
       "    'precision': 'int',\n",
       "    'min': 0,\n",
       "    'max': 65535},\n",
       "   'dimensions': [5490, 5490],\n",
       "   'crs': 'EPSG:32634',\n",
       "   'crs_transform': [20, 0, 300000, 0, -20, 6600000]},\n",
       "  {'id': 'B12',\n",
       "   'data_type': {'type': 'PixelType',\n",
       "    'precision': 'int',\n",
       "    'min': 0,\n",
       "    'max': 65535},\n",
       "   'dimensions': [5490, 5490],\n",
       "   'crs': 'EPSG:32634',\n",
       "   'crs_transform': [20, 0, 300000, 0, -20, 6600000]},\n",
       "  {'id': 'AOT',\n",
       "   'data_type': {'type': 'PixelType',\n",
       "    'precision': 'int',\n",
       "    'min': 0,\n",
       "    'max': 65535},\n",
       "   'dimensions': [10980, 10980],\n",
       "   'crs': 'EPSG:32634',\n",
       "   'crs_transform': [10, 0, 300000, 0, -10, 6600000]},\n",
       "  {'id': 'WVP',\n",
       "   'data_type': {'type': 'PixelType',\n",
       "    'precision': 'int',\n",
       "    'min': 0,\n",
       "    'max': 65535},\n",
       "   'dimensions': [10980, 10980],\n",
       "   'crs': 'EPSG:32634',\n",
       "   'crs_transform': [10, 0, 300000, 0, -10, 6600000]},\n",
       "  {'id': 'SCL',\n",
       "   'data_type': {'type': 'PixelType',\n",
       "    'precision': 'int',\n",
       "    'min': 0,\n",
       "    'max': 255},\n",
       "   'dimensions': [5490, 5490],\n",
       "   'crs': 'EPSG:32634',\n",
       "   'crs_transform': [20, 0, 300000, 0, -20, 6600000]},\n",
       "  {'id': 'TCI_R',\n",
       "   'data_type': {'type': 'PixelType',\n",
       "    'precision': 'int',\n",
       "    'min': 0,\n",
       "    'max': 255},\n",
       "   'dimensions': [10980, 10980],\n",
       "   'crs': 'EPSG:32634',\n",
       "   'crs_transform': [10, 0, 300000, 0, -10, 6600000]},\n",
       "  {'id': 'TCI_G',\n",
       "   'data_type': {'type': 'PixelType',\n",
       "    'precision': 'int',\n",
       "    'min': 0,\n",
       "    'max': 255},\n",
       "   'dimensions': [10980, 10980],\n",
       "   'crs': 'EPSG:32634',\n",
       "   'crs_transform': [10, 0, 300000, 0, -10, 6600000]},\n",
       "  {'id': 'TCI_B',\n",
       "   'data_type': {'type': 'PixelType',\n",
       "    'precision': 'int',\n",
       "    'min': 0,\n",
       "    'max': 255},\n",
       "   'dimensions': [10980, 10980],\n",
       "   'crs': 'EPSG:32634',\n",
       "   'crs_transform': [10, 0, 300000, 0, -10, 6600000]},\n",
       "  {'id': 'MSK_CLDPRB',\n",
       "   'data_type': {'type': 'PixelType',\n",
       "    'precision': 'int',\n",
       "    'min': 0,\n",
       "    'max': 255},\n",
       "   'dimensions': [5490, 5490],\n",
       "   'crs': 'EPSG:32634',\n",
       "   'crs_transform': [20, 0, 300000, 0, -20, 6600000]},\n",
       "  {'id': 'MSK_SNWPRB',\n",
       "   'data_type': {'type': 'PixelType',\n",
       "    'precision': 'int',\n",
       "    'min': 0,\n",
       "    'max': 255},\n",
       "   'dimensions': [5490, 5490],\n",
       "   'crs': 'EPSG:32634',\n",
       "   'crs_transform': [20, 0, 300000, 0, -20, 6600000]},\n",
       "  {'id': 'QA10',\n",
       "   'data_type': {'type': 'PixelType',\n",
       "    'precision': 'int',\n",
       "    'min': 0,\n",
       "    'max': 65535},\n",
       "   'dimensions': [10980, 10980],\n",
       "   'crs': 'EPSG:32634',\n",
       "   'crs_transform': [10, 0, 300000, 0, -10, 6600000]},\n",
       "  {'id': 'QA20',\n",
       "   'data_type': {'type': 'PixelType',\n",
       "    'precision': 'int',\n",
       "    'min': 0,\n",
       "    'max': 4294967295},\n",
       "   'dimensions': [5490, 5490],\n",
       "   'crs': 'EPSG:32634',\n",
       "   'crs_transform': [20, 0, 300000, 0, -20, 6600000]},\n",
       "  {'id': 'QA60',\n",
       "   'data_type': {'type': 'PixelType',\n",
       "    'precision': 'int',\n",
       "    'min': 0,\n",
       "    'max': 65535},\n",
       "   'dimensions': [1830, 1830],\n",
       "   'crs': 'EPSG:32634',\n",
       "   'crs_transform': [60, 0, 300000, 0, -60, 6600000]}],\n",
       " 'version': 1698409829026357,\n",
       " 'id': 'COPERNICUS/S2_SR_HARMONIZED/20230727T100559_20230727T100559_T34VCL',\n",
       " 'properties': {'SPACECRAFT_NAME': 'Sentinel-2B',\n",
       "  'SATURATED_DEFECTIVE_PIXEL_PERCENTAGE': 0,\n",
       "  'BOA_ADD_OFFSET_B12': -1000,\n",
       "  'CLOUD_SHADOW_PERCENTAGE': 2.17911,\n",
       "  'system:footprint': {'type': 'LinearRing',\n",
       "   'coordinates': [[19.40505801190107, 59.528718776588896],\n",
       "    [19.405035735722343, 59.528719187588614],\n",
       "    [17.46738850924639, 59.490715505615505],\n",
       "    [17.467310824765743, 59.49067674455465],\n",
       "    [17.467224129355774, 59.49064330696379],\n",
       "    [17.467220099162375, 59.49062834519157],\n",
       "    [17.51781038135465, 58.99861558153103],\n",
       "    [17.5667237903301, 58.50654668583389],\n",
       "    [17.56679777847948, 58.50650717569227],\n",
       "    [17.56686171639519, 58.506463141529714],\n",
       "    [17.56689013347608, 58.50646102449273],\n",
       "    [19.45005391632774, 58.543020689251826],\n",
       "    [19.450131780556028, 58.543058258061905],\n",
       "    [19.450217976084748, 58.543090343674535],\n",
       "    [19.450222719075427, 58.54310520318928],\n",
       "    [19.42810000826193, 59.03589360310348],\n",
       "    [19.405217377548016, 59.528631398686024],\n",
       "    [19.40514334261114, 59.52867197703173],\n",
       "    [19.40507989141922, 59.528716871611635],\n",
       "    [19.40505801190107, 59.528718776588896]]},\n",
       "  'SENSOR_QUALITY': 'PASSED',\n",
       "  'GENERATION_TIME': 1690462375000,\n",
       "  'CLOUDY_PIXEL_OVER_LAND_PERCENTAGE': 13.367435,\n",
       "  'CLOUD_COVERAGE_ASSESSMENT': 8.516913,\n",
       "  'THIN_CIRRUS_PERCENTAGE': 3.543372,\n",
       "  'GRANULE_MEAN_WV': 1.627879,\n",
       "  'BOA_ADD_OFFSET_B1': -1000,\n",
       "  'BOA_ADD_OFFSET_B2': -1000,\n",
       "  'DATASTRIP_ID': 'S2B_OPER_MSI_L2A_DS_2BPS_20230727T125255_S20230727T100559_N05.09',\n",
       "  'BOA_ADD_OFFSET_B5': -1000,\n",
       "  'BOA_ADD_OFFSET_B6': -1000,\n",
       "  'BOA_ADD_OFFSET_B3': -1000,\n",
       "  'BOA_ADD_OFFSET_B4': -1000,\n",
       "  'BOA_ADD_OFFSET_B9': -1000,\n",
       "  'BOA_ADD_OFFSET_B7': -1000,\n",
       "  'BOA_ADD_OFFSET_B8': -1000,\n",
       "  'GRANULE_ID': 'L2A_T34VCL_A033367_20230727T100559',\n",
       "  'MEAN_INCIDENCE_AZIMUTH_ANGLE_B8': 191.968542904278,\n",
       "  'DATATAKE_TYPE': 'INS-NOBS',\n",
       "  'MEAN_INCIDENCE_AZIMUTH_ANGLE_B9': 187.902687086721,\n",
       "  'MEAN_INCIDENCE_AZIMUTH_ANGLE_B6': 188.490149216841,\n",
       "  'MEAN_INCIDENCE_AZIMUTH_ANGLE_B7': 188.169208348073,\n",
       "  'MEAN_INCIDENCE_AZIMUTH_ANGLE_B4': 189.442549776156,\n",
       "  'NOT_VEGETATED_PERCENTAGE': 2.363569,\n",
       "  'MEAN_INCIDENCE_AZIMUTH_ANGLE_B5': 189.047260244219,\n",
       "  'RADIOMETRIC_QUALITY': 'PASSED',\n",
       "  'MEAN_INCIDENCE_AZIMUTH_ANGLE_B2': 193.407347016065,\n",
       "  'MEAN_INCIDENCE_AZIMUTH_ANGLE_B3': 190.863970263529,\n",
       "  'MEAN_INCIDENCE_AZIMUTH_ANGLE_B1': 187.863629432726,\n",
       "  'HIGH_PROBA_CLOUDS_PERCENTAGE': 2.686298,\n",
       "  'UNCLASSIFIED_PERCENTAGE': 0.476382,\n",
       "  'OZONE_SOURCE': 'AUX_ECMWFT',\n",
       "  'GRANULE_MEAN_AOT': 0.095958,\n",
       "  'BOA_ADD_OFFSET_B8A': -1000,\n",
       "  'SNOW_ICE_PERCENTAGE': 3e-06,\n",
       "  'BOA_ADD_OFFSET_B11': -1000,\n",
       "  'BOA_ADD_OFFSET_B10': -1000,\n",
       "  'GEOMETRIC_QUALITY': 'PASSED',\n",
       "  'system:asset_size': 1359526500,\n",
       "  'system:index': '20230727T100559_20230727T100559_T34VCL',\n",
       "  'DATATAKE_IDENTIFIER': 'GS2B_20230727T100559_033367_N05.09',\n",
       "  'AOT_RETRIEVAL_ACCURACY': 0,\n",
       "  'AOT_RETRIEVAL_METHOD': 'SEN2COR_DDV',\n",
       "  'MEAN_INCIDENCE_AZIMUTH_ANGLE_B8A': 187.923471872243,\n",
       "  'MEAN_SOLAR_AZIMUTH_ANGLE': 165.989828433735,\n",
       "  'VEGETATION_PERCENTAGE': 18.49743,\n",
       "  'SOLAR_IRRADIANCE_B12': 87.75,\n",
       "  'SOLAR_IRRADIANCE_B10': 365.41,\n",
       "  'SOLAR_IRRADIANCE_B11': 247.08,\n",
       "  'SOLAR_IRRADIANCE_B8A': 953.93,\n",
       "  'FORMAT_CORRECTNESS': 'PASSED',\n",
       "  'system:time_end': 1690452863894,\n",
       "  'WATER_VAPOUR_RETRIEVAL_ACCURACY': 0,\n",
       "  'OZONE_VALUE': 361.589728,\n",
       "  'system:time_start': 1690452863894,\n",
       "  'PROCESSING_BASELINE': '05.09',\n",
       "  'SENSING_ORBIT_NUMBER': 22,\n",
       "  'NODATA_PIXEL_PERCENTAGE': 0,\n",
       "  'SENSING_ORBIT_DIRECTION': 'ASCENDING',\n",
       "  'GENERAL_QUALITY': 'PASSED',\n",
       "  'REFLECTANCE_CONVERSION_CORRECTION': 0.968920940991452,\n",
       "  'MEDIUM_PROBA_CLOUDS_PERCENTAGE': 2.2872420000000004,\n",
       "  'MEAN_INCIDENCE_ZENITH_ANGLE_B1': 3.05726197447629,\n",
       "  'MEAN_INCIDENCE_ZENITH_ANGLE_B5': 2.71310079820977,\n",
       "  'MEAN_INCIDENCE_ZENITH_ANGLE_B4': 2.63568180419251,\n",
       "  'MEAN_INCIDENCE_ZENITH_ANGLE_B3': 2.51174466576408,\n",
       "  'MEAN_INCIDENCE_ZENITH_ANGLE_B2': 2.40187038862205,\n",
       "  'MEAN_INCIDENCE_ZENITH_ANGLE_B9': 3.15240631851138,\n",
       "  'MEAN_INCIDENCE_ZENITH_ANGLE_B8': 2.45312906285522,\n",
       "  'MEAN_INCIDENCE_ZENITH_ANGLE_B7': 2.87454584935721,\n",
       "  'DARK_FEATURES_PERCENTAGE': 0.034469,\n",
       "  'MEAN_INCIDENCE_ZENITH_ANGLE_B6': 2.79048272558747,\n",
       "  'MEAN_SOLAR_ZENITH_ANGLE': 40.406947560556,\n",
       "  'MEAN_INCIDENCE_ZENITH_ANGLE_B8A': 2.96233425392332,\n",
       "  'RADIATIVE_TRANSFER_ACCURACY': 0,\n",
       "  'MGRS_TILE': '34VCL',\n",
       "  'CLOUDY_PIXEL_PERCENTAGE': 8.516913,\n",
       "  'PRODUCT_ID': 'S2B_MSIL2A_20230727T100559_N0509_R022_T34VCL_20230727T125255',\n",
       "  'MEAN_INCIDENCE_ZENITH_ANGLE_B10': 2.5985544289778,\n",
       "  'SOLAR_IRRADIANCE_B9': 817.58,\n",
       "  'DEGRADED_MSI_DATA_PERCENTAGE': 0.0052,\n",
       "  'MEAN_INCIDENCE_ZENITH_ANGLE_B11': 2.7787772584482,\n",
       "  'L2A_QUALITY': 'PASSED',\n",
       "  'MEAN_INCIDENCE_ZENITH_ANGLE_B12': 2.98353354876607,\n",
       "  'SOLAR_IRRADIANCE_B6': 1291.13,\n",
       "  'MEAN_INCIDENCE_AZIMUTH_ANGLE_B10': 189.795831993178,\n",
       "  'SOLAR_IRRADIANCE_B5': 1425.78,\n",
       "  'MEAN_INCIDENCE_AZIMUTH_ANGLE_B11': 188.543543050416,\n",
       "  'SOLAR_IRRADIANCE_B8': 1041.28,\n",
       "  'MEAN_INCIDENCE_AZIMUTH_ANGLE_B12': 187.868141888983,\n",
       "  'SOLAR_IRRADIANCE_B7': 1175.57,\n",
       "  'SOLAR_IRRADIANCE_B2': 1959.75,\n",
       "  'SOLAR_IRRADIANCE_B1': 1874.3,\n",
       "  'SOLAR_IRRADIANCE_B4': 1512.79,\n",
       "  'SOLAR_IRRADIANCE_B3': 1824.93,\n",
       "  'WATER_PERCENTAGE': 67.932123}}"
      ]
     },
     "execution_count": 16,
     "metadata": {},
     "output_type": "execute_result"
    }
   ],
   "source": [
    "img1 = myCollection.first()\n",
    "img1.getInfo()"
   ]
  },
  {
   "cell_type": "code",
   "execution_count": 17,
   "id": "3962785c-2d0e-4deb-a7b5-31f17b452c5b",
   "metadata": {},
   "outputs": [
    {
     "data": {
      "application/vnd.jupyter.widget-view+json": {
       "model_id": "0cc5bc584e8b4c13b4bf3272d8b9bcc6",
       "version_major": 2,
       "version_minor": 0
      },
      "text/plain": [
       "Map(bottom=77435.0, center=[59.3, 18], controls=(WidgetControl(options=['position', 'transparent_bg'], widget=…"
      ]
     },
     "metadata": {},
     "output_type": "display_data"
    }
   ],
   "source": [
    "vis_params = {\"min\": 0, \n",
    "              \"max\": 4000, \n",
    "              \"bands\": [\"B3\", \"B4\", \"B8\"]}  \n",
    "\n",
    "Map.addLayer(img1, vis_params, \"FirstImage\", True) \n",
    "Map"
   ]
  },
  {
   "cell_type": "markdown",
   "id": "616cde95-8b46-44ad-9187-5b63263f58ad",
   "metadata": {},
   "source": [
    "Oooops! It seems that the clouds are obstacle for the features to be seen. So, a correction will be done at the next paces."
   ]
  },
  {
   "cell_type": "code",
   "execution_count": 18,
   "id": "35f2ee7d-b1a6-45d1-8fdb-081800f6c7cd",
   "metadata": {},
   "outputs": [
    {
     "name": "stdout",
     "output_type": "stream",
     "text": [
      "Band names:  ['B1', 'B2', 'B3', 'B4', 'B5', 'B6', 'B7', 'B8', 'B8A', 'B9', 'B11', 'B12', 'AOT', 'WVP', 'SCL', 'TCI_R', 'TCI_G', 'TCI_B', 'MSK_CLDPRB', 'MSK_SNWPRB', 'QA10', 'QA20', 'QA60']\n"
     ]
    }
   ],
   "source": [
    "# Get information about the bands as a list. \n",
    "bandNames = img1.bandNames() \n",
    "print('Band names: ', bandNames.getInfo()) # ee.List of band names "
   ]
  },
  {
   "cell_type": "code",
   "execution_count": 19,
   "id": "037fbd6d-830c-4675-9446-76eb14643a48",
   "metadata": {},
   "outputs": [
    {
     "name": "stdout",
     "output_type": "stream",
     "text": [
      "Band 1 projection:  {'type': 'Projection', 'crs': 'EPSG:32634', 'transform': [60, 0, 300000, 0, -60, 6600000]}\n"
     ]
    }
   ],
   "source": [
    "# Get projection information from band 1. \n",
    "b1proj = img1.select('B1').projection() \n",
    "print('Band 1 projection: ', b1proj.getInfo()) # ee.Projection object "
   ]
  },
  {
   "cell_type": "code",
   "execution_count": 20,
   "id": "9588e2c5-c0cb-4a46-a9b1-9d95dc60a054",
   "metadata": {},
   "outputs": [
    {
     "name": "stdout",
     "output_type": "stream",
     "text": [
      "Band 3 scale:  10\n",
      "Band 4 scale:  10\n",
      "Band 8 scale:  10\n"
     ]
    }
   ],
   "source": [
    "# Get spatial resolution (in meters) information from bands\n",
    "bscale = img1.select('B3').projection().nominalScale() \n",
    "print('Band 3 scale: ', bscale.getInfo()) # ee.Number \n",
    "bscale = img1.select('B4').projection().nominalScale() \n",
    "print('Band 4 scale: ', bscale.getInfo()) # ee.Number \n",
    "bscale = img1.select('B8').projection().nominalScale() \n",
    "print('Band 8 scale: ', bscale.getInfo()) # ee.Number "
   ]
  },
  {
   "cell_type": "code",
   "execution_count": 21,
   "id": "853dfa54-45ee-4b98-b26e-b1030a3beae6",
   "metadata": {},
   "outputs": [
    {
     "name": "stdout",
     "output_type": "stream",
     "text": [
      "Metadata properties:  ['system:version', 'system:id', 'SPACECRAFT_NAME', 'SATURATED_DEFECTIVE_PIXEL_PERCENTAGE', 'BOA_ADD_OFFSET_B12', 'CLOUD_SHADOW_PERCENTAGE', 'system:footprint', 'SENSOR_QUALITY', 'GENERATION_TIME', 'CLOUDY_PIXEL_OVER_LAND_PERCENTAGE', 'CLOUD_COVERAGE_ASSESSMENT', 'THIN_CIRRUS_PERCENTAGE', 'GRANULE_MEAN_WV', 'BOA_ADD_OFFSET_B1', 'BOA_ADD_OFFSET_B2', 'DATASTRIP_ID', 'BOA_ADD_OFFSET_B5', 'BOA_ADD_OFFSET_B6', 'BOA_ADD_OFFSET_B3', 'BOA_ADD_OFFSET_B4', 'BOA_ADD_OFFSET_B9', 'BOA_ADD_OFFSET_B7', 'BOA_ADD_OFFSET_B8', 'GRANULE_ID', 'MEAN_INCIDENCE_AZIMUTH_ANGLE_B8', 'DATATAKE_TYPE', 'MEAN_INCIDENCE_AZIMUTH_ANGLE_B9', 'MEAN_INCIDENCE_AZIMUTH_ANGLE_B6', 'MEAN_INCIDENCE_AZIMUTH_ANGLE_B7', 'MEAN_INCIDENCE_AZIMUTH_ANGLE_B4', 'NOT_VEGETATED_PERCENTAGE', 'MEAN_INCIDENCE_AZIMUTH_ANGLE_B5', 'RADIOMETRIC_QUALITY', 'MEAN_INCIDENCE_AZIMUTH_ANGLE_B2', 'MEAN_INCIDENCE_AZIMUTH_ANGLE_B3', 'MEAN_INCIDENCE_AZIMUTH_ANGLE_B1', 'HIGH_PROBA_CLOUDS_PERCENTAGE', 'UNCLASSIFIED_PERCENTAGE', 'OZONE_SOURCE', 'GRANULE_MEAN_AOT', 'BOA_ADD_OFFSET_B8A', 'SNOW_ICE_PERCENTAGE', 'BOA_ADD_OFFSET_B11', 'BOA_ADD_OFFSET_B10', 'GEOMETRIC_QUALITY', 'system:asset_size', 'system:index', 'DATATAKE_IDENTIFIER', 'AOT_RETRIEVAL_ACCURACY', 'AOT_RETRIEVAL_METHOD', 'MEAN_INCIDENCE_AZIMUTH_ANGLE_B8A', 'MEAN_SOLAR_AZIMUTH_ANGLE', 'VEGETATION_PERCENTAGE', 'SOLAR_IRRADIANCE_B12', 'SOLAR_IRRADIANCE_B10', 'SOLAR_IRRADIANCE_B11', 'SOLAR_IRRADIANCE_B8A', 'FORMAT_CORRECTNESS', 'system:time_end', 'WATER_VAPOUR_RETRIEVAL_ACCURACY', 'OZONE_VALUE', 'system:time_start', 'PROCESSING_BASELINE', 'SENSING_ORBIT_NUMBER', 'NODATA_PIXEL_PERCENTAGE', 'SENSING_ORBIT_DIRECTION', 'GENERAL_QUALITY', 'REFLECTANCE_CONVERSION_CORRECTION', 'MEDIUM_PROBA_CLOUDS_PERCENTAGE', 'MEAN_INCIDENCE_ZENITH_ANGLE_B1', 'MEAN_INCIDENCE_ZENITH_ANGLE_B5', 'MEAN_INCIDENCE_ZENITH_ANGLE_B4', 'MEAN_INCIDENCE_ZENITH_ANGLE_B3', 'MEAN_INCIDENCE_ZENITH_ANGLE_B2', 'MEAN_INCIDENCE_ZENITH_ANGLE_B9', 'MEAN_INCIDENCE_ZENITH_ANGLE_B8', 'MEAN_INCIDENCE_ZENITH_ANGLE_B7', 'DARK_FEATURES_PERCENTAGE', 'MEAN_INCIDENCE_ZENITH_ANGLE_B6', 'MEAN_SOLAR_ZENITH_ANGLE', 'MEAN_INCIDENCE_ZENITH_ANGLE_B8A', 'RADIATIVE_TRANSFER_ACCURACY', 'MGRS_TILE', 'CLOUDY_PIXEL_PERCENTAGE', 'PRODUCT_ID', 'MEAN_INCIDENCE_ZENITH_ANGLE_B10', 'SOLAR_IRRADIANCE_B9', 'DEGRADED_MSI_DATA_PERCENTAGE', 'MEAN_INCIDENCE_ZENITH_ANGLE_B11', 'L2A_QUALITY', 'MEAN_INCIDENCE_ZENITH_ANGLE_B12', 'SOLAR_IRRADIANCE_B6', 'MEAN_INCIDENCE_AZIMUTH_ANGLE_B10', 'SOLAR_IRRADIANCE_B5', 'MEAN_INCIDENCE_AZIMUTH_ANGLE_B11', 'SOLAR_IRRADIANCE_B8', 'MEAN_INCIDENCE_AZIMUTH_ANGLE_B12', 'SOLAR_IRRADIANCE_B7', 'SOLAR_IRRADIANCE_B2', 'SOLAR_IRRADIANCE_B1', 'SOLAR_IRRADIANCE_B4', 'SOLAR_IRRADIANCE_B3', 'WATER_PERCENTAGE', 'system:bands', 'system:band_names']\n"
     ]
    }
   ],
   "source": [
    "# Get a list of all metadata properties. \n",
    "properties = img1.propertyNames()\n",
    "print('Metadata properties: ', properties.getInfo()) # ee.List of metadata properties"
   ]
  },
  {
   "cell_type": "code",
   "execution_count": 22,
   "id": "54ad2f50-4b7e-4148-b723-64becf633367",
   "metadata": {},
   "outputs": [
    {
     "name": "stdout",
     "output_type": "stream",
     "text": [
      "Image ID:  GS2B_20230727T100559_033367_N05.09\n"
     ]
    }
   ],
   "source": [
    "# Get the timestamp and convert it to a date. \n",
    "ID = img1.get('DATATAKE_IDENTIFIER') \n",
    "print('Image ID: ', ID.getInfo()) # ee.Date"
   ]
  },
  {
   "cell_type": "code",
   "execution_count": 23,
   "id": "0e61b4d5-671a-4745-9d9b-9564e07e441d",
   "metadata": {},
   "outputs": [
    {
     "name": "stdout",
     "output_type": "stream",
     "text": [
      "CLOUD_COVERAGE_ASSESSMENT:  8.516913\n"
     ]
    }
   ],
   "source": [
    "# Get a specific metadata property. \n",
    "cloudiness = img1.get('CLOUD_COVERAGE_ASSESSMENT')\n",
    "print('CLOUD_COVERAGE_ASSESSMENT: ', cloudiness.getInfo()) # ee.Number "
   ]
  },
  {
   "cell_type": "code",
   "execution_count": 24,
   "id": "565bd833-a5ce-4634-acac-eeaf6abc1dda",
   "metadata": {},
   "outputs": [
    {
     "data": {
      "application/vnd.jupyter.widget-view+json": {
       "model_id": "0cc5bc584e8b4c13b4bf3272d8b9bcc6",
       "version_major": 2,
       "version_minor": 0
      },
      "text/plain": [
       "Map(bottom=77435.0, center=[59.3, 18], controls=(WidgetControl(options=['position', 'transparent_bg'], widget=…"
      ]
     },
     "metadata": {},
     "output_type": "display_data"
    }
   ],
   "source": [
    "img2 = myCollection.median()\n",
    "Map.addLayer(img2, vis_params, \"MedianImage\", True) \n",
    "Map"
   ]
  },
  {
   "cell_type": "markdown",
   "id": "188d5b5e-3f05-4270-bf7a-c09d09cdc1df",
   "metadata": {},
   "source": [
    "As one of the most common index, NDVI uses the radiation difference of vegetation in bands of red and near infrared and as a result it provides us with a separable map in which one can distinguish vegetation than the other land covers and even differentiate forest from grasslands. "
   ]
  },
  {
   "cell_type": "code",
   "execution_count": 25,
   "id": "29ad9c1b-6d37-4e83-89a6-c632796c7236",
   "metadata": {},
   "outputs": [
    {
     "data": {
      "application/vnd.jupyter.widget-view+json": {
       "model_id": "0cc5bc584e8b4c13b4bf3272d8b9bcc6",
       "version_major": 2,
       "version_minor": 0
      },
      "text/plain": [
       "Map(bottom=77435.0, center=[59.3, 18], controls=(WidgetControl(options=['position', 'transparent_bg'], widget=…"
      ]
     },
     "metadata": {},
     "output_type": "display_data"
    }
   ],
   "source": [
    "# Compute Normalized Difference Vegetation Index over S2-L2 product.\n",
    "# NDVI = (NIR - RED) / (NIR + RED), where\n",
    "# RED is B4, 664.5 nm\n",
    "# NIR is B8, 835.1 nm\n",
    "\n",
    "# Calculate the NDVI manually: NDVI = (B8 - B4) / (B8 + B4)\n",
    "nir = img2.select('B8')\n",
    "red = img2.select('B4')\n",
    "ndvi = nir.subtract(red).divide(nir.add(red))\n",
    "\n",
    "# Display the result. \n",
    "ndviParams = {'min': -1, 'max': 1, 'palette': ['blue', 'white', 'green']} \n",
    "Map.addLayer(ndvi, ndviParams, 'NDVI image #1')\n",
    "Map"
   ]
  },
  {
   "cell_type": "code",
   "execution_count": 26,
   "id": "e1cd4697-d204-4ea1-a77b-3f339a220dbd",
   "metadata": {},
   "outputs": [
    {
     "data": {
      "application/vnd.jupyter.widget-view+json": {
       "model_id": "0cc5bc584e8b4c13b4bf3272d8b9bcc6",
       "version_major": 2,
       "version_minor": 0
      },
      "text/plain": [
       "Map(bottom=77435.0, center=[59.3, 18], controls=(WidgetControl(options=['position', 'transparent_bg'], widget=…"
      ]
     },
     "metadata": {},
     "output_type": "display_data"
    }
   ],
   "source": [
    "# NDVI using \"normalizedDifference(NIR, RED)\"\n",
    "ndvi = img2.normalizedDifference(['B8', 'B4']); \n",
    "\n",
    "# Display the result. \n",
    "Map.addLayer(ndvi, ndviParams, 'NDVI image #2')\n",
    "Map"
   ]
  },
  {
   "cell_type": "code",
   "execution_count": null,
   "id": "d8c9bde8-c7d7-443b-bc8d-d10ba94d4e11",
   "metadata": {},
   "outputs": [],
   "source": []
  }
 ],
 "metadata": {
  "kernelspec": {
   "display_name": "Python",
   "language": "python",
   "name": "python3"
  },
  "language_info": {
   "codemirror_mode": {
    "name": "ipython",
    "version": 3
   },
   "file_extension": ".py",
   "mimetype": "text/x-python",
   "name": "python",
   "nbconvert_exporter": "python",
   "pygments_lexer": "ipython3",
   "version": "3.8.10"
  }
 },
 "nbformat": 4,
 "nbformat_minor": 5
}

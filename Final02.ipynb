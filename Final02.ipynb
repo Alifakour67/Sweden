{
 "cells": [
  {
   "cell_type": "markdown",
   "id": "bf743d3d-bfc7-4e26-b11c-3ad61a2157ff",
   "metadata": {},
   "source": [
    "Firstly, the authentication is done."
   ]
  },
  {
   "cell_type": "code",
   "execution_count": 14,
   "id": "b6766408-8e90-4a66-b4ec-6abba1cebd6b",
   "metadata": {},
   "outputs": [],
   "source": [
    "import ee\n",
    "import geemap"
   ]
  },
  {
   "cell_type": "code",
   "execution_count": 15,
   "id": "b1ff3c25-103d-48c7-a48a-ecffdbfb1263",
   "metadata": {},
   "outputs": [],
   "source": [
    "# # Trigger the authentication flow.\n",
    "# ee.Authenticate()"
   ]
  },
  {
   "cell_type": "code",
   "execution_count": 16,
   "id": "292c3a1c-3dd2-4d9b-be9c-71071e666bef",
   "metadata": {},
   "outputs": [
    {
     "name": "stdout",
     "output_type": "stream",
     "text": [
      "Google Earth Engine has initialized successfully!\n"
     ]
    }
   ],
   "source": [
    "try:\n",
    "    # Initialize the library.\n",
    "    ee.Initialize()\n",
    "    print('Google Earth Engine has initialized successfully!')\n",
    "except ee.EEException as e:\n",
    "    print('Google Earth Engine has failed to initialize!')\n",
    "except:\n",
    "    print(\"Unexpected error:\", sys.exc_info()[0])\n",
    "    raise"
   ]
  },
  {
   "cell_type": "markdown",
   "id": "6f868cdb-a49e-40b9-82e0-1614f9539ac0",
   "metadata": {
    "tags": []
   },
   "source": [
    "Getting data and vizualizing\n",
    "\n",
    "Stockholm, Sweden is selected as our region of interest and center the base map on this city."
   ]
  },
  {
   "cell_type": "code",
   "execution_count": 17,
   "id": "972e6e85-0230-4967-bedc-f3daf0856346",
   "metadata": {},
   "outputs": [],
   "source": [
    "# Stockholm \n",
    "\n",
    "point = ee.Geometry.Point([18, 59.3])\n",
    "lon, lat = point.getInfo()['coordinates']"
   ]
  },
  {
   "cell_type": "markdown",
   "id": "36163425-5731-4d68-9427-7eb2149b360f",
   "metadata": {},
   "source": [
    " \n",
    "\n",
    "The first interactive map is created with one line of code, specifying the location where we want to center the map, the zoom level, and the main dimensions of the map:"
   ]
  },
  {
   "cell_type": "code",
   "execution_count": 18,
   "id": "1d671823-c1fb-43d8-9558-70019ebe0a4e",
   "metadata": {},
   "outputs": [
    {
     "data": {
      "application/vnd.jupyter.widget-view+json": {
       "model_id": "85211cb61d114570888c35a538edcd20",
       "version_major": 2,
       "version_minor": 0
      },
      "text/plain": [
       "Map(center=[20, 0], controls=(WidgetControl(options=['position', 'transparent_bg'], widget=HBox(children=(Togg…"
      ]
     },
     "metadata": {},
     "output_type": "display_data"
    }
   ],
   "source": [
    "Map = geemap.Map()\n",
    "Map"
   ]
  },
  {
   "cell_type": "markdown",
   "id": "d9ebe185-7731-4d0f-a977-244aa64b9ceb",
   "metadata": {},
   "source": [
    "Next, Sentinel 2 multispectral images of Stockholm are gathered with less than 10 % could coverage during the summer 2023, and let's take the median of all these images to have one single almost cloud free image."
   ]
  },
  {
   "cell_type": "code",
   "execution_count": 19,
   "id": "83010ef7-cddf-4cd0-ae1f-fedaf6c3ae0a",
   "metadata": {},
   "outputs": [],
   "source": [
    "image = ee.ImageCollection('COPERNICUS/S2_SR_HARMONIZED') \\\n",
    "    .filterBounds(point) \\\n",
    "    .filterDate('2023-06-21', '2023-09-21') \\\n",
    "    .filterMetadata('CLOUDY_PIXEL_PERCENTAGE', 'less_than', 10) \\\n",
    "    .sort('CLOUD_COVER')\\\n",
    "    .first() "
   ]
  },
  {
   "cell_type": "code",
   "execution_count": 20,
   "id": "39db4fec-d350-42da-a74d-f8590a88a689",
   "metadata": {},
   "outputs": [],
   "source": [
    "# Set visualization parameters for land cover.\n",
    "vis_params = {\n",
    "    'min': 0,'max': 4000,\n",
    "    'bands': [\"B4\", \"B3\", \"B2\"]\n",
    "}\n",
    "\n",
    "Map.centerObject(point, 8)\n",
    "Map.addLayer(image, vis_params, 'S3-2023-Median')"
   ]
  },
  {
   "cell_type": "code",
   "execution_count": 21,
   "id": "be90b99f-c73f-406d-bd2b-f9129fc83b78",
   "metadata": {},
   "outputs": [
    {
     "data": {
      "application/vnd.jupyter.widget-view+json": {
       "model_id": "85211cb61d114570888c35a538edcd20",
       "version_major": 2,
       "version_minor": 0
      },
      "text/plain": [
       "Map(bottom=19584.0, center=[59.300000000000004, 18], controls=(WidgetControl(options=['position', 'transparent…"
      ]
     },
     "metadata": {},
     "output_type": "display_data"
    }
   ],
   "source": [
    "Map"
   ]
  },
  {
   "cell_type": "markdown",
   "id": "a5663801-e56a-4fb7-b2e3-4f34959def0f",
   "metadata": {},
   "source": [
    "## Check image properties"
   ]
  },
  {
   "cell_type": "code",
   "execution_count": 22,
   "id": "5dc74dd4-2af6-4fac-8b25-027b77f8623c",
   "metadata": {},
   "outputs": [
    {
     "data": {
      "text/plain": [
       "{'AOT_RETRIEVAL_ACCURACY': 0,\n",
       " 'AOT_RETRIEVAL_METHOD': 'SEN2COR_DDV',\n",
       " 'BOA_ADD_OFFSET_B1': -1000,\n",
       " 'BOA_ADD_OFFSET_B10': -1000,\n",
       " 'BOA_ADD_OFFSET_B11': -1000,\n",
       " 'BOA_ADD_OFFSET_B12': -1000,\n",
       " 'BOA_ADD_OFFSET_B2': -1000,\n",
       " 'BOA_ADD_OFFSET_B3': -1000,\n",
       " 'BOA_ADD_OFFSET_B4': -1000,\n",
       " 'BOA_ADD_OFFSET_B5': -1000,\n",
       " 'BOA_ADD_OFFSET_B6': -1000,\n",
       " 'BOA_ADD_OFFSET_B7': -1000,\n",
       " 'BOA_ADD_OFFSET_B8': -1000,\n",
       " 'BOA_ADD_OFFSET_B8A': -1000,\n",
       " 'BOA_ADD_OFFSET_B9': -1000,\n",
       " 'CLOUDY_PIXEL_OVER_LAND_PERCENTAGE': 6.55647,\n",
       " 'CLOUDY_PIXEL_PERCENTAGE': 4.970358,\n",
       " 'CLOUD_COVERAGE_ASSESSMENT': 4.970358,\n",
       " 'CLOUD_SHADOW_PERCENTAGE': 4.098606,\n",
       " 'DARK_FEATURES_PERCENTAGE': 0.035381,\n",
       " 'DATASTRIP_ID': 'S2A_OPER_MSI_L2A_DS_2APS_20230622T162904_S20230622T100756_N05.09',\n",
       " 'DATATAKE_IDENTIFIER': 'GS2A_20230622T100601_041775_N05.09',\n",
       " 'DATATAKE_TYPE': 'INS-NOBS',\n",
       " 'DEGRADED_MSI_DATA_PERCENTAGE': 0.0001,\n",
       " 'FORMAT_CORRECTNESS': 'PASSED',\n",
       " 'GENERAL_QUALITY': 'PASSED',\n",
       " 'GENERATION_TIME': 1687451344000,\n",
       " 'GEOMETRIC_QUALITY': 'PASSED',\n",
       " 'GRANULE_ID': 'L2A_T33VXF_A041775_20230622T100756',\n",
       " 'GRANULE_MEAN_AOT': 0.143849,\n",
       " 'GRANULE_MEAN_WV': 1.687191,\n",
       " 'HIGH_PROBA_CLOUDS_PERCENTAGE': 2.025345,\n",
       " 'IMAGE_DATE': '2023-06-22',\n",
       " 'L2A_QUALITY': 'PASSED',\n",
       " 'MEAN_INCIDENCE_AZIMUTH_ANGLE_B1': 119.439567834394,\n",
       " 'MEAN_INCIDENCE_AZIMUTH_ANGLE_B10': 121.86425518838,\n",
       " 'MEAN_INCIDENCE_AZIMUTH_ANGLE_B11': 120.394047773988,\n",
       " 'MEAN_INCIDENCE_AZIMUTH_ANGLE_B12': 119.487136962567,\n",
       " 'MEAN_INCIDENCE_AZIMUTH_ANGLE_B2': 125.14410650105,\n",
       " 'MEAN_INCIDENCE_AZIMUTH_ANGLE_B3': 122.762392424728,\n",
       " 'MEAN_INCIDENCE_AZIMUTH_ANGLE_B4': 121.321322415921,\n",
       " 'MEAN_INCIDENCE_AZIMUTH_ANGLE_B5': 120.727428664795,\n",
       " 'MEAN_INCIDENCE_AZIMUTH_ANGLE_B6': 120.274396258387,\n",
       " 'MEAN_INCIDENCE_AZIMUTH_ANGLE_B7': 119.86050532517,\n",
       " 'MEAN_INCIDENCE_AZIMUTH_ANGLE_B8': 123.83276782266,\n",
       " 'MEAN_INCIDENCE_AZIMUTH_ANGLE_B8A': 119.505609119564,\n",
       " 'MEAN_INCIDENCE_AZIMUTH_ANGLE_B9': 119.176663628275,\n",
       " 'MEAN_INCIDENCE_ZENITH_ANGLE_B1': 3.99724666627214,\n",
       " 'MEAN_INCIDENCE_ZENITH_ANGLE_B10': 3.59762808902055,\n",
       " 'MEAN_INCIDENCE_ZENITH_ANGLE_B11': 3.75772075836756,\n",
       " 'MEAN_INCIDENCE_ZENITH_ANGLE_B12': 3.93468295363604,\n",
       " 'MEAN_INCIDENCE_ZENITH_ANGLE_B2': 3.44361151881807,\n",
       " 'MEAN_INCIDENCE_ZENITH_ANGLE_B3': 3.53169419558368,\n",
       " 'MEAN_INCIDENCE_ZENITH_ANGLE_B4': 3.63145826455775,\n",
       " 'MEAN_INCIDENCE_ZENITH_ANGLE_B5': 3.69636694227018,\n",
       " 'MEAN_INCIDENCE_ZENITH_ANGLE_B6': 3.76454065378574,\n",
       " 'MEAN_INCIDENCE_ZENITH_ANGLE_B7': 3.83724850982875,\n",
       " 'MEAN_INCIDENCE_ZENITH_ANGLE_B8': 3.4806812321092,\n",
       " 'MEAN_INCIDENCE_ZENITH_ANGLE_B8A': 3.91304503076366,\n",
       " 'MEAN_INCIDENCE_ZENITH_ANGLE_B9': 4.08111772095187,\n",
       " 'MEAN_SOLAR_AZIMUTH_ANGLE': 165.618454187013,\n",
       " 'MEAN_SOLAR_ZENITH_ANGLE': 36.1757752245978,\n",
       " 'MEDIUM_PROBA_CLOUDS_PERCENTAGE': 2.912983,\n",
       " 'MGRS_TILE': '33VXF',\n",
       " 'NODATA_PIXEL_PERCENTAGE': 0,\n",
       " 'NOMINAL_SCALE': {'AOT': 10,\n",
       "  'B1': 60,\n",
       "  'B11': 20,\n",
       "  'B12': 20,\n",
       "  'B2': 10,\n",
       "  'B3': 10,\n",
       "  'B4': 10,\n",
       "  'B5': 20,\n",
       "  'B6': 20,\n",
       "  'B7': 20,\n",
       "  'B8': 10,\n",
       "  'B8A': 20,\n",
       "  'B9': 60,\n",
       "  'MSK_CLDPRB': 20,\n",
       "  'MSK_SNWPRB': 20,\n",
       "  'QA10': 10,\n",
       "  'QA20': 20,\n",
       "  'QA60': 60,\n",
       "  'SCL': 20,\n",
       "  'TCI_B': 10,\n",
       "  'TCI_G': 10,\n",
       "  'TCI_R': 10,\n",
       "  'WVP': 10},\n",
       " 'NOT_VEGETATED_PERCENTAGE': 3.994423,\n",
       " 'OZONE_SOURCE': 'AUX_ECMWFT',\n",
       " 'OZONE_VALUE': 337.442635,\n",
       " 'PROCESSING_BASELINE': '05.09',\n",
       " 'PRODUCT_ID': 'S2A_MSIL2A_20230622T100601_N0509_R022_T33VXF_20230622T162904',\n",
       " 'RADIATIVE_TRANSFER_ACCURACY': 0,\n",
       " 'RADIOMETRIC_QUALITY': 'PASSED',\n",
       " 'REFLECTANCE_CONVERSION_CORRECTION': 0.96867276647908,\n",
       " 'SATURATED_DEFECTIVE_PIXEL_PERCENTAGE': 0,\n",
       " 'SENSING_ORBIT_DIRECTION': 'DESCENDING',\n",
       " 'SENSING_ORBIT_NUMBER': 22,\n",
       " 'SENSOR_QUALITY': 'PASSED',\n",
       " 'SNOW_ICE_PERCENTAGE': 0,\n",
       " 'SOLAR_IRRADIANCE_B1': 1884.69,\n",
       " 'SOLAR_IRRADIANCE_B10': 367.15,\n",
       " 'SOLAR_IRRADIANCE_B11': 245.59,\n",
       " 'SOLAR_IRRADIANCE_B12': 85.25,\n",
       " 'SOLAR_IRRADIANCE_B2': 1959.66,\n",
       " 'SOLAR_IRRADIANCE_B3': 1823.24,\n",
       " 'SOLAR_IRRADIANCE_B4': 1512.06,\n",
       " 'SOLAR_IRRADIANCE_B5': 1424.64,\n",
       " 'SOLAR_IRRADIANCE_B6': 1287.61,\n",
       " 'SOLAR_IRRADIANCE_B7': 1162.08,\n",
       " 'SOLAR_IRRADIANCE_B8': 1041.63,\n",
       " 'SOLAR_IRRADIANCE_B8A': 955.32,\n",
       " 'SOLAR_IRRADIANCE_B9': 812.92,\n",
       " 'SPACECRAFT_NAME': 'Sentinel-2A',\n",
       " 'THIN_CIRRUS_PERCENTAGE': 0.03203,\n",
       " 'UNCLASSIFIED_PERCENTAGE': 0.953875,\n",
       " 'VEGETATION_PERCENTAGE': 41.6466,\n",
       " 'WATER_PERCENTAGE': 44.30075600000001,\n",
       " 'WATER_VAPOUR_RETRIEVAL_ACCURACY': 0,\n",
       " 'system:asset_size': '1520.242333 MB',\n",
       " 'system:band_names': ['B1',\n",
       "  'B2',\n",
       "  'B3',\n",
       "  'B4',\n",
       "  'B5',\n",
       "  'B6',\n",
       "  'B7',\n",
       "  'B8',\n",
       "  'B8A',\n",
       "  'B9',\n",
       "  'B11',\n",
       "  'B12',\n",
       "  'AOT',\n",
       "  'WVP',\n",
       "  'SCL',\n",
       "  'TCI_R',\n",
       "  'TCI_G',\n",
       "  'TCI_B',\n",
       "  'MSK_CLDPRB',\n",
       "  'MSK_SNWPRB',\n",
       "  'QA10',\n",
       "  'QA20',\n",
       "  'QA60'],\n",
       " 'system:id': 'COPERNICUS/S2_SR_HARMONIZED/20230622T100601_20230622T100756_T33VXF',\n",
       " 'system:index': '20230622T100601_20230622T100756_T33VXF',\n",
       " 'system:time_end': '2023-06-22 10:14:23',\n",
       " 'system:time_start': '2023-06-22 10:14:23',\n",
       " 'system:version': 1698413638873267}"
      ]
     },
     "execution_count": 22,
     "metadata": {},
     "output_type": "execute_result"
    }
   ],
   "source": [
    "props = geemap.image_props(image)\n",
    "props.getInfo()"
   ]
  },
  {
   "cell_type": "markdown",
   "id": "1fbe4e51-b904-4043-8ad5-15a7dc3a53ac",
   "metadata": {},
   "source": [
    "## Make a training dataset"
   ]
  },
  {
   "cell_type": "code",
   "execution_count": 23,
   "id": "7089bcb7-f9a8-4873-9080-4f65c284d88d",
   "metadata": {},
   "outputs": [
    {
     "data": {
      "application/vnd.jupyter.widget-view+json": {
       "model_id": "85211cb61d114570888c35a538edcd20",
       "version_major": 2,
       "version_minor": 0
      },
      "text/plain": [
       "Map(bottom=19584.0, center=[59.300000000000004, 18], controls=(WidgetControl(options=['position', 'transparent…"
      ]
     },
     "metadata": {},
     "output_type": "display_data"
    }
   ],
   "source": [
    "training = image.sample(**{\n",
    "    'scale': 30,\n",
    "    'numPixels': 4015,\n",
    "    'seed': 0,\n",
    "    'geometries': True  # Set this to False to ignore geometries\n",
    "})\n",
    "\n",
    "Map.addLayer(training, {}, 'training', False)\n",
    "Map"
   ]
  },
  {
   "cell_type": "markdown",
   "id": "2cda0a3d-9d43-45fd-9458-3d9c2aa7792a",
   "metadata": {},
   "source": [
    "## Clustering\n",
    "\n",
    "We first train a k-means clustering algorithm and then use it to classify the whole image. The number of clusters is defined 5 as there are 5 land covers."
   ]
  },
  {
   "cell_type": "code",
   "execution_count": 24,
   "id": "08f0b787-2b31-41f8-a05c-d13721c0b0e7",
   "metadata": {},
   "outputs": [],
   "source": [
    "n_clusters = 5\n",
    "clusterer = ee.Clusterer.wekaKMeans(n_clusters).train(training)\n",
    "\n",
    "# Cluster the input using the trained clusterer.\n",
    "result = image.cluster(clusterer)"
   ]
  },
  {
   "cell_type": "code",
   "execution_count": 25,
   "id": "6e272b13-ac7e-45ae-9306-9af186dacf6d",
   "metadata": {},
   "outputs": [
    {
     "data": {
      "application/vnd.jupyter.widget-view+json": {
       "model_id": "85211cb61d114570888c35a538edcd20",
       "version_major": 2,
       "version_minor": 0
      },
      "text/plain": [
       "Map(bottom=19584.0, center=[59.300000000000004, 18], controls=(WidgetControl(options=['position', 'transparent…"
      ]
     },
     "metadata": {},
     "output_type": "display_data"
    }
   ],
   "source": [
    "# # Display the clusters with random colors.\n",
    "Map.addLayer(result.randomVisualizer(), {}, 'clusters')\n",
    "Map"
   ]
  },
  {
   "cell_type": "code",
   "execution_count": null,
   "id": "1afc2469-00a6-43f8-bc91-550eed1ef70b",
   "metadata": {},
   "outputs": [],
   "source": []
  },
  {
   "cell_type": "code",
   "execution_count": null,
   "id": "a73bbf33-69ed-43d8-a23a-7f34316d515c",
   "metadata": {},
   "outputs": [],
   "source": []
  }
 ],
 "metadata": {
  "kernelspec": {
   "display_name": "Python",
   "language": "python",
   "name": "python3"
  },
  "language_info": {
   "codemirror_mode": {
    "name": "ipython",
    "version": 3
   },
   "file_extension": ".py",
   "mimetype": "text/x-python",
   "name": "python",
   "nbconvert_exporter": "python",
   "pygments_lexer": "ipython3",
   "version": "3.8.10"
  }
 },
 "nbformat": 4,
 "nbformat_minor": 5
}
